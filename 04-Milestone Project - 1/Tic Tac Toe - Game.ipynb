{
 "cells": [
  {
   "cell_type": "code",
   "execution_count": 1,
   "metadata": {},
   "outputs": [],
   "source": [
    "def draw_board(board):\n",
    "    print('|'.join(board[6:]))\n",
    "    print('-'*5)\n",
    "    print('|'.join(board[3:6]))\n",
    "    print('-'*5)\n",
    "    print('|'.join(board[0:3]))"
   ]
  },
  {
   "cell_type": "code",
   "execution_count": 2,
   "metadata": {},
   "outputs": [],
   "source": [
    "empty_marker = ' '\n",
    "def init_board():\n",
    "    return [empty_marker] * 9"
   ]
  },
  {
   "cell_type": "code",
   "execution_count": 8,
   "metadata": {},
   "outputs": [],
   "source": [
    "def check_won(marker, board):\n",
    "    marker_places = []\n",
    "    for i, x in enumerate(board):\n",
    "        if x == marker:\n",
    "            marker_places.append(i)\n",
    "    if len(marker_places) < 3:\n",
    "        return False\n",
    "    \n",
    "    return set([0,1,2]).issubset(marker_places) or \\\n",
    "        set([3,4,5]).issubset(marker_places) or \\\n",
    "        set([6,7,8]).issubset(marker_places) or \\\n",
    "        set([0,3,6]).issubset(marker_places) or \\\n",
    "        set([1,4,7]).issubset(marker_places) or \\\n",
    "        set([2,5,8]).issubset(marker_places) or set([0,4,8]).issubset(marker_places) or set([2,4,6]).issubset(marker_places)"
   ]
  },
  {
   "cell_type": "code",
   "execution_count": 4,
   "metadata": {},
   "outputs": [],
   "source": [
    "def make_move(marker, board):\n",
    "    while True:\n",
    "        place = input('Select place in range 1-9: ')\n",
    "        if place.isdigit() and int(place) in range(1, 10):\n",
    "            place = int(place)\n",
    "            if board[place - 1] != empty_marker:\n",
    "                print('This place is already occupied !')\n",
    "            else:\n",
    "                board[place - 1] = marker\n",
    "                break\n",
    "    \n",
    "    return board, check_won(marker, board)"
   ]
  },
  {
   "cell_type": "code",
   "execution_count": 5,
   "metadata": {},
   "outputs": [],
   "source": [
    "def pick_markers():\n",
    "    markers = ('X', 'O')\n",
    "    while True:\n",
    "        choice = input(f'Player 1, please select your marker in {\",\".join(markers)}: ')\n",
    "        if choice in markers:\n",
    "            return choice, markers[0] if choice == markers[1] else markers[1]"
   ]
  },
  {
   "cell_type": "code",
   "execution_count": 6,
   "metadata": {},
   "outputs": [],
   "source": [
    "def start_game():\n",
    "    while True:\n",
    "        user1_marker, user2_marker = pick_markers()\n",
    "        print(f'Player 1 marker is {user1_marker} and player 2 marker is {user2_marker}')\n",
    "        board = init_board()\n",
    "        draw_board(board)\n",
    "        while True:\n",
    "            board, won = make_move(user1_marker, board)\n",
    "            draw_board(board)\n",
    "            if won:\n",
    "                print('Player 1 won !')\n",
    "                break\n",
    "            \n",
    "            board, won = make_move(user2_marker, board)\n",
    "            draw_board(board)\n",
    "            if won:\n",
    "                print('Player 2 won !')\n",
    "                break\n",
    "        if input('Restart game (y/n) ?') != 'y':\n",
    "            break"
   ]
  },
  {
   "cell_type": "code",
   "execution_count": 9,
   "metadata": {},
   "outputs": [
    {
     "name": "stdout",
     "output_type": "stream",
     "text": [
      "Player 1, please select your marker in X,O: X\n",
      "Player 1 marker is X and player 2 marker is O\n",
      " | | \n",
      "-----\n",
      " | | \n",
      "-----\n",
      " | | \n",
      "Select place in range 1-9: 7\n",
      "X| | \n",
      "-----\n",
      " | | \n",
      "-----\n",
      " | | \n",
      "Select place in range 1-9: 1\n",
      "X| | \n",
      "-----\n",
      " | | \n",
      "-----\n",
      "O| | \n",
      "Select place in range 1-9: 9\n",
      "X| |X\n",
      "-----\n",
      " | | \n",
      "-----\n",
      "O| | \n",
      "Select place in range 1-9: 5\n",
      "X| |X\n",
      "-----\n",
      " |O| \n",
      "-----\n",
      "O| | \n",
      "Select place in range 1-9: 8\n",
      "X|X|X\n",
      "-----\n",
      " |O| \n",
      "-----\n",
      "O| | \n",
      "Player 1 won !\n",
      "Restart game (y/n) ?n\n"
     ]
    }
   ],
   "source": [
    "start_game()"
   ]
  }
 ],
 "metadata": {
  "kernelspec": {
   "display_name": "Python 3",
   "language": "python",
   "name": "python3"
  },
  "language_info": {
   "codemirror_mode": {
    "name": "ipython",
    "version": 3
   },
   "file_extension": ".py",
   "mimetype": "text/x-python",
   "name": "python",
   "nbconvert_exporter": "python",
   "pygments_lexer": "ipython3",
   "version": "3.7.3"
  }
 },
 "nbformat": 4,
 "nbformat_minor": 2
}
