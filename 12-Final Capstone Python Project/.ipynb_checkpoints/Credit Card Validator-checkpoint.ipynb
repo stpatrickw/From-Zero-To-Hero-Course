{
 "cells": [
  {
   "cell_type": "code",
   "execution_count": 32,
   "metadata": {},
   "outputs": [],
   "source": [
    "def validate_credit_card(card_digits):\n",
    "    card_digits = card_digits.replace(' ', '')\n",
    "    card_sum_digits = 0\n",
    "    for i, digit in enumerate(reversed(card_digits), 1):\n",
    "        if i % 2 == 0:\n",
    "            doubled_digit = int(digit) * 2\n",
    "            card_sum_digits += doubled_digit if doubled_digit <= 9 else doubled_digit - 9\n",
    "        else:\n",
    "            card_sum_digits += int(digit)\n",
    "    \n",
    "    return card_sum_digits % 10 == 0"
   ]
  },
  {
   "cell_type": "code",
   "execution_count": 33,
   "metadata": {},
   "outputs": [
    {
     "data": {
      "text/plain": [
       "True"
      ]
     },
     "execution_count": 33,
     "metadata": {},
     "output_type": "execute_result"
    }
   ],
   "source": [
    "validate_credit_card('4012 8888 8888 1881')"
   ]
  }
 ],
 "metadata": {
  "kernelspec": {
   "display_name": "Python 3",
   "language": "python",
   "name": "python3"
  },
  "language_info": {
   "codemirror_mode": {
    "name": "ipython",
    "version": 3
   },
   "file_extension": ".py",
   "mimetype": "text/x-python",
   "name": "python",
   "nbconvert_exporter": "python",
   "pygments_lexer": "ipython3",
   "version": "3.7.3"
  }
 },
 "nbformat": 4,
 "nbformat_minor": 2
}
