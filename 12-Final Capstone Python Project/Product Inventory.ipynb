{
 "cells": [
  {
   "cell_type": "code",
   "execution_count": 10,
   "metadata": {},
   "outputs": [],
   "source": [
    "class Product:\n",
    "    def __init__(self, id, price, quantity):\n",
    "        self.id = id\n",
    "        self.price = price\n",
    "        self.quantity = quantity"
   ]
  },
  {
   "cell_type": "code",
   "execution_count": 13,
   "metadata": {},
   "outputs": [],
   "source": [
    "class Inventory:\n",
    "    def __init__(self):\n",
    "        self.products = {}\n",
    "        \n",
    "    def add_product(self, product):\n",
    "        if isinstance(product, Product):\n",
    "            if product.id in self.products:\n",
    "                self.products[product.id].quantity += product.quantity\n",
    "            else:\n",
    "                self.products[product.id] = product\n",
    "        \n",
    "    def remove_product(self, id, quantity):\n",
    "        if id in self.products:\n",
    "            if self.products[id].quantity <= quantity:\n",
    "                self.products[id].quantity -= quantity;\n",
    "            else:\n",
    "                self.products[id].quantity = 0\n",
    "    \n",
    "    def get_total_quantity(self):\n",
    "        total = 0\n",
    "        for product in self.products.values():\n",
    "            total += product.quantity\n",
    "        return total\n"
   ]
  },
  {
   "cell_type": "code",
   "execution_count": 15,
   "metadata": {},
   "outputs": [
    {
     "name": "stdout",
     "output_type": "stream",
     "text": [
      "397\n"
     ]
    }
   ],
   "source": [
    "import random\n",
    "\n",
    "inventory = Inventory()\n",
    "for i in range(10):\n",
    "    inventory.add_product(Product(i, random.randint(10, 20), random.randint(30, 50)))\n",
    "print(inventory.get_total_quantity())"
   ]
  }
 ],
 "metadata": {
  "kernelspec": {
   "display_name": "Python 3",
   "language": "python",
   "name": "python3"
  },
  "language_info": {
   "codemirror_mode": {
    "name": "ipython",
    "version": 3
   },
   "file_extension": ".py",
   "mimetype": "text/x-python",
   "name": "python",
   "nbconvert_exporter": "python",
   "pygments_lexer": "ipython3",
   "version": "3.7.3"
  }
 },
 "nbformat": 4,
 "nbformat_minor": 2
}
